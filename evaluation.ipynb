{
 "cells": [
  {
   "cell_type": "code",
   "execution_count": 15,
   "metadata": {
    "ExecuteTime": {
     "end_time": "2018-01-29T13:18:49.635855Z",
     "start_time": "2018-01-29T13:18:49.629777Z"
    }
   },
   "outputs": [],
   "source": [
    "import sys\n",
    "DATA_DIR = '/root/kaggle/'\n",
    "IMAGE_SIZE = 1408\n",
    "sys.path.append(DATA_DIR)\n",
    "from nuclei.mask import mask_encoding_alt,mask_encoding\n",
    "import pandas as pd\n",
    "from PIL import Image"
   ]
  },
  {
   "cell_type": "code",
   "execution_count": 12,
   "metadata": {
    "ExecuteTime": {
     "end_time": "2018-01-29T13:13:24.291204Z",
     "start_time": "2018-01-29T13:13:24.283985Z"
    }
   },
   "outputs": [],
   "source": [
    "df = pd.read_csv(DATA_DIR + 'test_ids.csv')\n",
    "imageids = list(df['ImageId'])"
   ]
  },
  {
   "cell_type": "code",
   "execution_count": 13,
   "metadata": {
    "ExecuteTime": {
     "end_time": "2018-01-29T13:16:40.725523Z",
     "start_time": "2018-01-29T13:16:40.720763Z"
    }
   },
   "outputs": [],
   "source": [
    "img_paths = []\n",
    "for i in imageids:\n",
    "    img_path = DATA_DIR + 'stage1_test/' + i + '/images/' + i + '.png'\n",
    "    img_paths.append(img_path)"
   ]
  },
  {
   "cell_type": "code",
   "execution_count": 14,
   "metadata": {
    "ExecuteTime": {
     "end_time": "2018-01-29T13:16:50.038035Z",
     "start_time": "2018-01-29T13:16:50.034474Z"
    }
   },
   "outputs": [
    {
     "name": "stdout",
     "output_type": "stream",
     "text": [
      "/root/kaggle/stage1_test/0114f484a16c152baa2d82fdd43740880a762c93f436c8988ac461c5c9dbe7d5/images/0114f484a16c152baa2d82fdd43740880a762c93f436c8988ac461c5c9dbe7d5.png\n"
     ]
    }
   ],
   "source": [
    "print(img_paths[0])"
   ]
  },
  {
   "cell_type": "code",
   "execution_count": null,
   "metadata": {},
   "outputs": [],
   "source": [
    "for i in img_paths:\n",
    "    img = np.array(Image.open(img_path).convert('RGB'))\n",
    "    H,W = img.shape[:2]"
   ]
  }
 ],
 "metadata": {
  "kernelspec": {
   "display_name": "Python 3",
   "language": "python",
   "name": "python3"
  },
  "language_info": {
   "codemirror_mode": {
    "name": "ipython",
    "version": 3
   },
   "file_extension": ".py",
   "mimetype": "text/x-python",
   "name": "python",
   "nbconvert_exporter": "python",
   "pygments_lexer": "ipython3",
   "version": "3.6.3"
  }
 },
 "nbformat": 4,
 "nbformat_minor": 2
}
